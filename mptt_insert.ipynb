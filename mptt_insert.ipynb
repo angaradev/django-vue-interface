{
 "cells": [
  {
   "cell_type": "code",
   "execution_count": null,
   "metadata": {},
   "outputs": [],
   "source": [
    "import os\n",
    "os.environ[\"DJANGO_ALLOW_ASYNC_UNSAFE\"] = \"true\"\n",
    "from product.models import Category\n",
    "from django.db import transaction\n",
    "from django.db.models import Q"
   ]
  },
  {
   "cell_type": "code",
   "execution_count": 61,
   "metadata": {},
   "outputs": [],
   "source": [
    "import MySQLdb\n",
    "\n",
    "db = MySQLdb.connect('localhost', 'root', 'manhee33338', 'angara_interface',  cursorclass=MySQLdb.cursors.DictCursor)\n",
    "#db.set_character_set('utf8')\n",
    "cursor = db.cursor()\n",
    "table = 'group_dict_groups'"
   ]
  },
  {
   "cell_type": "code",
   "execution_count": null,
   "metadata": {},
   "outputs": [],
   "source": [
    "product = Product.objects.all()\n",
    "for p in product:\n",
    "    p.category.remove()"
   ]
  },
  {
   "cell_type": "code",
   "execution_count": null,
   "metadata": {},
   "outputs": [],
   "source": [
    "q = 'SELECT * FROM ' + table + ' WHERE id'\n",
    "cursor.execute(q)\n",
    "cats = cursor.fetchall()\n",
    "cursor.rowcount"
   ]
  },
  {
   "cell_type": "code",
   "execution_count": null,
   "metadata": {},
   "outputs": [],
   "source": [
    "\n",
    "# del_group = Category.objects.filter(Q(name__icontains=\"колод\") & Q(name__icontains=\"перед\"))\n",
    "gr = Category.objects.all()\n",
    "gr.delete()"
   ]
  },
  {
   "cell_type": "code",
   "execution_count": null,
   "metadata": {},
   "outputs": [],
   "source": [
    "qc = 'SELECT * FROM products_categories WHERE id BETWEEN 0 AND 20'\n",
    "cursor.execute(qc)\n",
    "zerro = cursor.fetchall()\n",
    "zerro"
   ]
  },
  {
   "cell_type": "code",
   "execution_count": 55,
   "metadata": {},
   "outputs": [],
   "source": [
    "cat_del = Category.objects.filter(id__gt=1000).delete()"
   ]
  },
  {
   "cell_type": "code",
   "execution_count": 56,
   "metadata": {},
   "outputs": [],
   "source": [
    "import csv\n",
    "fl_list = []\n",
    "with open('/home/manhee/Downloads/tmp/project_cats_pre_group.csv') as file:\n",
    "    r = csv.reader(file, delimiter=';')\n",
    "    for row in r:\n",
    "        fl_list.append(row)"
   ]
  },
  {
   "cell_type": "markdown",
   "metadata": {},
   "source": [
    "# Insert zerro category level\n"
   ]
  },
  {
   "cell_type": "code",
   "execution_count": 57,
   "metadata": {},
   "outputs": [],
   "source": [
    "with transaction.atomic():\n",
    "    with Category.objects.delay_mptt_updates():\n",
    "        for new_record in fl_list:\n",
    "            new_node = Category(\n",
    "                id = new_record[1],\n",
    "                name=new_record[0],\n",
    "                parent=Category.objects.get(id=new_record[2])\n",
    "            )\n",
    "            new_node.save()"
   ]
  },
  {
   "cell_type": "markdown",
   "metadata": {},
   "source": [
    "# Insert second category level"
   ]
  },
  {
   "cell_type": "code",
   "execution_count": null,
   "metadata": {},
   "outputs": [],
   "source": [
    "qc = 'SELECT * FROM products_categories WHERE id BETWEEN 99 AND 300'\n",
    "cursor.execute(qc)\n",
    "first = cursor.fetchall()\n",
    "first"
   ]
  },
  {
   "cell_type": "code",
   "execution_count": null,
   "metadata": {},
   "outputs": [],
   "source": [
    "import csv\n",
    "sl_list = []\n",
    "with open('/home/manhee/Downloads/tmp/group_dict_groups.csv') as file:\n",
    "    r = csv.reader(file, delimiter=',')\n",
    "    for row in r:\n",
    "        sl_list.append(row)\n",
    "print(sl_list[:5])"
   ]
  },
  {
   "cell_type": "code",
   "execution_count": null,
   "metadata": {},
   "outputs": [],
   "source": [
    "fl = [x[1] for x in fl_list]\n",
    "print(fl[:2])"
   ]
  },
  {
   "cell_type": "code",
   "execution_count": null,
   "metadata": {},
   "outputs": [],
   "source": [
    "fl = [x[1] for x in fl_list]\n",
    "for sl in sl_list:\n",
    "    if sl[2] not in fl:\n",
    "        print(sl)\n",
    "    "
   ]
  },
  {
   "cell_type": "code",
   "execution_count": 59,
   "metadata": {},
   "outputs": [],
   "source": [
    "with transaction.atomic():\n",
    "    with Category.objects.delay_mptt_updates():\n",
    "        for new_record in sl_list:\n",
    "            \n",
    "            new_node = Category(\n",
    "                id = new_record[0],\n",
    "                name=new_record[1],\n",
    "                parent=Category.objects.get(id=new_record[2])\n",
    "            )\n",
    "            new_node.save()\n",
    "        "
   ]
  },
  {
   "cell_type": "code",
   "execution_count": null,
   "metadata": {},
   "outputs": [],
   "source": []
  },
  {
   "cell_type": "markdown",
   "metadata": {},
   "source": [
    "# Keywords insert\n"
   ]
  },
  {
   "cell_type": "code",
   "execution_count": 63,
   "metadata": {},
   "outputs": [
    {
     "data": {
      "text/plain": [
       "[{'id': 2001,\n",
       "  'name': 'радиатор печки',\n",
       "  'parent_id': 117,\n",
       "  'minus': 'патруб\\nшланг\\nкондиц',\n",
       "  'plus': 'радиатор печк\\nрадиатор отпит\\nрадиатор салон',\n",
       "  'old_group_id': '2258',\n",
       "  'full_minus': 'патрубок\\nшланг\\nкондиционер',\n",
       "  'full_plus': 'радиатор печки\\nрадиатор отпителя\\nрадиатор салона',\n",
       "  'inner_labels': '',\n",
       "  'category': 'салон',\n",
       "  'subcategory': 'печка',\n",
       "  'tags': '',\n",
       "  'value_price': 1},\n",
       " {'id': 2003,\n",
       "  'name': 'радиатор масляный',\n",
       "  'parent_id': 117,\n",
       "  'minus': 'крыш\\nкольц\\nшланг',\n",
       "  'plus': 'радиатор масл\\nмасляный радиатор\\nмаслянный радиат\\nмасляного радиатора\\nрадиатора масл\\nмасл охла',\n",
       "  'old_group_id': '2140',\n",
       "  'full_minus': 'крышка\\nкольцо\\nшланг',\n",
       "  'full_plus': 'радиатор маслянный\\nмасляный радиатор\\nмаслянный радиатор\\nрадиатор маслянный охлаждения',\n",
       "  'inner_labels': '',\n",
       "  'category': 'охлаждение',\n",
       "  'subcategory': 'радиатор',\n",
       "  'tags': '',\n",
       "  'value_price': 1}]"
      ]
     },
     "execution_count": 63,
     "metadata": {},
     "output_type": "execute_result"
    }
   ],
   "source": [
    "qc = 'SELECT * FROM group_dict_groups'\n",
    "cursor.execute(qc)\n",
    "keywords = cursor.fetchall()\n",
    "cursor.rowcount\n",
    "keywords[:2]"
   ]
  },
  {
   "cell_type": "code",
   "execution_count": 65,
   "metadata": {},
   "outputs": [
    {
     "name": "stdout",
     "output_type": "stream",
     "text": [
      "{'id': 2953, 'name': 'автозапчасти', 'parent_id': 221, 'minus': 'магазин', 'plus': 'автозапч\\nавто запча', 'old_group_id': '1', 'full_minus': 'магазин', 'full_plus': 'автозапчасти', 'inner_labels': '', 'category': 'автозапчасти', 'subcategory': 'запчасти', 'tags': '', 'value_price': 1}\n",
      "{'id': 2956, 'name': 'аксесуары', 'parent_id': 221, 'minus': 'оаоао', 'plus': 'аксес', 'old_group_id': '3', 'full_minus': '', 'full_plus': 'аксессуары', 'inner_labels': '', 'category': 'аксессуары', 'subcategory': '', 'tags': '', 'value_price': 1}\n",
      "{'id': 3035, 'name': 'дефлекторы радиатора', 'parent_id': 221, 'minus': 'оаоао', 'plus': 'дефлек радиат', 'old_group_id': '2197', 'full_minus': '', 'full_plus': 'дефлектор радиатора', 'inner_labels': '', 'category': 'кузов', 'subcategory': 'дефлектор', 'tags': 'капот', 'value_price': 1}\n",
      "{'id': 3051, 'name': 'запчасти', 'parent_id': 221, 'minus': 'автозапчаст\\nна запчасти\\nкаталог\\nмагаз\\nоригин', 'plus': 'запчаст', 'old_group_id': '101', 'full_minus': 'автозапчасти\\nна запчасти\\nкаталог\\nмагазин\\nоригинал', 'full_plus': 'запчасти', 'inner_labels': '', 'category': 'автозапчасти', 'subcategory': 'запчасти', 'tags': '', 'value_price': 1}\n",
      "{'id': 3054, 'name': 'запчасти каталог', 'parent_id': 221, 'minus': 'оаоаоа', 'plus': 'запч каталог', 'old_group_id': '101', 'full_minus': '', 'full_plus': 'запчасти каталог', 'inner_labels': '', 'category': 'автозапчасти', 'subcategory': 'каталог запчастей', 'tags': '', 'value_price': 1}\n",
      "{'id': 3055, 'name': 'запчасти магазин', 'parent_id': 221, 'minus': 'аоаоаоао', 'plus': 'запчас магаз', 'old_group_id': '101', 'full_minus': '', 'full_plus': 'запчасти магазин', 'inner_labels': '', 'category': 'автозапчасти', 'subcategory': 'магазин запчастей', 'tags': '', 'value_price': 1}\n",
      "{'id': 3056, 'name': 'запчасти оригинал', 'parent_id': 221, 'minus': 'оаоаоао', 'plus': 'запчаст оригин', 'old_group_id': '101', 'full_minus': '', 'full_plus': 'запчасти оригинал', 'inner_labels': '', 'category': 'автозапчасти', 'subcategory': 'запчасти', 'tags': '', 'value_price': 1}\n",
      "{'id': 3102, 'name': 'каталог', 'parent_id': 221, 'minus': 'номер', 'plus': 'каталог', 'old_group_id': '1', 'full_minus': 'номер', 'full_plus': 'каталог', 'inner_labels': '', 'category': 'запчасти', 'subcategory': 'каталог запчастей', 'tags': '', 'value_price': 1}\n",
      "{'id': 3441, 'name': 'ангара запчасти', 'parent_id': 221, 'minus': 'штуцер', 'plus': 'ангара запчасти\\nангара 77\\nангара77\\nangara77\\nangara77', 'old_group_id': '0', 'full_minus': None, 'full_plus': None, 'inner_labels': 'generic', 'category': None, 'subcategory': None, 'tags': None, 'value_price': 1}\n",
      "{'id': 3442, 'name': 'ангара портер', 'parent_id': 221, 'minus': 'болт', 'plus': 'ангара портер\\nangara porter', 'old_group_id': '0', 'full_minus': None, 'full_plus': None, 'inner_labels': 'generic', 'category': None, 'subcategory': None, 'tags': None, 'value_price': 1}\n"
     ]
    }
   ],
   "source": [
    "for keyword in keywords:\n",
    "    try:\n",
    "        cat = Category.objects.get(id=keyword['id'])\n",
    "        cat.plus = keyword['plus']\n",
    "        cat.minus = keyword['minus']\n",
    "        cat.full_plus = keyword['full_plus']\n",
    "        cat.full_minus = keyword['full_minus']\n",
    "        cat.save()\n",
    "    except:\n",
    "        print(keyword)"
   ]
  },
  {
   "cell_type": "code",
   "execution_count": null,
   "metadata": {},
   "outputs": [],
   "source": [
    "# Function for spliting keywords to separated rows\n",
    "def split_keywords(string):\n",
    "    st = string.split('\\n')\n",
    "    print(st)\n",
    "    return st\n",
    "split_keywords(second[0]['plus'])\n",
    "print(second[:1])"
   ]
  },
  {
   "cell_type": "code",
   "execution_count": null,
   "metadata": {},
   "outputs": [],
   "source": [
    "from django.utils.text import slugify\n",
    "from transliterate import translit\n",
    "from langdetect import detect"
   ]
  },
  {
   "cell_type": "code",
   "execution_count": null,
   "metadata": {},
   "outputs": [],
   "source": [
    "for names in second[:50]:\n",
    "    name = names['name']\n",
    "#     if detect(name) == 'ru':\n",
    "    slug = slugify(translit(name, 'ru', reversed=True))\n",
    "#     else:\n",
    "    #slug = slugify(name)\n",
    "    print(slug)"
   ]
  },
  {
   "cell_type": "code",
   "execution_count": null,
   "metadata": {},
   "outputs": [],
   "source": [
    "with transaction.atomic():\n",
    "    with Category.objects.delay_mptt_updates():\n",
    "        for new_record in second:\n",
    "            if not new_record['old_group_id']:\n",
    "                new_record['old_group_id'] = 0\n",
    "            new_node = Category(\n",
    "                id = new_record['id'],\n",
    "                name=new_record['name'],\n",
    "                parent=Category.objects.get(id=new_record['parent_id']),\n",
    "                old_group_id = new_record['old_group_id'],\n",
    "                plus = new_record['plus'],\n",
    "                minus = new_record['minus'],\n",
    "                full_plus = new_record['full_plus'],\n",
    "                full_minus = new_record['full_minus']\n",
    "            )\n",
    "            new_node.save()\n",
    "        "
   ]
  },
  {
   "cell_type": "code",
   "execution_count": null,
   "metadata": {},
   "outputs": [],
   "source": [
    "def unique_slug_generator(instance, name):\n",
    "\n",
    "    slug = slugify(translit(name, 'ru', reversed=True))\n",
    "\n",
    "    model_class = Category\n",
    "\n",
    "    while model_class._default_manager.filter(slug=slug).exists():\n",
    "        object_pk = model_class._default_manager.latest('pk')\n",
    "        object_pk = str(object_pk.id + 1)\n",
    "\n",
    "        slug = f'{slug}-{object_pk}'\n",
    "    return slug"
   ]
  },
  {
   "cell_type": "code",
   "execution_count": null,
   "metadata": {},
   "outputs": [],
   "source": [
    "qs = Category.objects.all()\n",
    "for q in qs:\n",
    "    slug = Category.objects.get(id=q.id)\n",
    "    slug.slug=unique_slug_generator(q, q.name)\n",
    "    \n",
    "    slug.save()"
   ]
  },
  {
   "cell_type": "code",
   "execution_count": null,
   "metadata": {},
   "outputs": [],
   "source": [
    "f = qs.get(id=1)\n",
    "f.get_root()"
   ]
  },
  {
   "cell_type": "code",
   "execution_count": null,
   "metadata": {},
   "outputs": [],
   "source": [
    "\n",
    "new_node = Category(\n",
    "    id=545,\n",
    "name='Inserted from Jypyter check ID', parent=f,\n",
    "    slug=\"inserted-from-jupiter-check-id\"\n",
    ")\n",
    "new_node.save()"
   ]
  },
  {
   "cell_type": "code",
   "execution_count": null,
   "metadata": {},
   "outputs": [],
   "source": [
    "f.get_descendants(include_self=False)"
   ]
  },
  {
   "cell_type": "code",
   "execution_count": null,
   "metadata": {},
   "outputs": [],
   "source": [
    "with transaction.atomic():\n",
    "    with MyMPTTModel.objects.delay_mptt_updates():\n",
    "        for new_record in new_records:\n",
    "            new_node = MyMPTTModel(..., parent=get_parent(new_record))\n",
    "            new_node.save()"
   ]
  },
  {
   "cell_type": "code",
   "execution_count": null,
   "metadata": {},
   "outputs": [],
   "source": [
    "s = qs.get(id=545)"
   ]
  },
  {
   "cell_type": "code",
   "execution_count": null,
   "metadata": {},
   "outputs": [],
   "source": [
    "s.get_family()"
   ]
  },
  {
   "cell_type": "markdown",
   "metadata": {},
   "source": [
    "# Insert plus and minus keywords"
   ]
  },
  {
   "cell_type": "code",
   "execution_count": null,
   "metadata": {},
   "outputs": [],
   "source": [
    "from product.models import Keywords"
   ]
  },
  {
   "cell_type": "code",
   "execution_count": null,
   "metadata": {},
   "outputs": [],
   "source": [
    "als = Category.objects.all()\n",
    "for a in second:\n",
    "    cat = als.get(id=a['id'])\n",
    "    \n",
    "    plus_list = split_keywords(a['plus'])\n",
    "    ful_plus_list = split_keywords(a['full_plus'])\n",
    "    if plus_list:\n",
    "        for i,pl in enumerate(plus_list):\n",
    "            try:\n",
    "                fp = ful_plus_list[i]\n",
    "            except:\n",
    "                pass\n",
    "            plus_model = KeywordsPlus(\n",
    "                category = als.get(id=a['id']),\n",
    "                plus=pl,\n",
    "                full_plus=fp\n",
    "            )\n",
    "            plus_model.save()\n",
    "    "
   ]
  },
  {
   "cell_type": "code",
   "execution_count": null,
   "metadata": {},
   "outputs": [],
   "source": [
    "for a in second:\n",
    "    cat = als.get(id=a['id'])\n",
    "    \n",
    "    minus_list = split_keywords(a['minus'])\n",
    "    ful_minus_list = split_keywords(a['full_minus'])\n",
    "    if minus_list:\n",
    "        for i,mn in enumerate(minus_list):\n",
    "            try:\n",
    "                fm = ful_minus_list[i]\n",
    "            except:\n",
    "                pass\n",
    "            minus_model = KeywordsMinus(\n",
    "                category = als.get(id=a['id']),\n",
    "                minus=mn,\n",
    "                full_minus=fm\n",
    "            )\n",
    "            minus_model.save()\n",
    "    "
   ]
  },
  {
   "cell_type": "code",
   "execution_count": null,
   "metadata": {},
   "outputs": [],
   "source": [
    "from product.models import Product"
   ]
  },
  {
   "cell_type": "code",
   "execution_count": null,
   "metadata": {},
   "outputs": [],
   "source": [
    "db = MySQLdb.connect('localhost', 'root', 'manhee33338', 'angara_interface',  cursorclass=MySQLdb.cursors.DictCursor)\n",
    "#db.set_character_set('utf8')\n",
    "cursor = db.cursor()\n",
    "table = 'product_angaraold'"
   ]
  },
  {
   "cell_type": "code",
   "execution_count": null,
   "metadata": {},
   "outputs": [],
   "source": [
    "pq = 'select * from product_angaraold'\n"
   ]
  },
  {
   "cell_type": "code",
   "execution_count": null,
   "metadata": {},
   "outputs": [],
   "source": [
    "test_qs = Category.objects.filter(name__icontains=\"радиатор\")"
   ]
  },
  {
   "cell_type": "code",
   "execution_count": null,
   "metadata": {},
   "outputs": [],
   "source": [
    "test_qs.count()"
   ]
  },
  {
   "cell_type": "code",
   "execution_count": null,
   "metadata": {},
   "outputs": [],
   "source": [
    "row = test_qs.first()\n",
    "row"
   ]
  },
  {
   "cell_type": "code",
   "execution_count": null,
   "metadata": {},
   "outputs": [],
   "source": [
    "plus_list = [x.plus for x in row.to_category.all()]\n",
    "minus_list = [x.minus for x in row.to_category_minus.all()]\n"
   ]
  },
  {
   "cell_type": "markdown",
   "metadata": {},
   "source": [
    "# Here is the categorizer code for each product"
   ]
  },
  {
   "cell_type": "markdown",
   "metadata": {},
   "source": [
    "1) Need to get all records from category where id > 2000 it will be groups be honest\n",
    "2) In loop finding matching rows and assign category to the product instance"
   ]
  },
  {
   "cell_type": "code",
   "execution_count": null,
   "metadata": {},
   "outputs": [],
   "source": [
    "nom = 'Радиатор масляный двигателя на Портер1'\n",
    "categories_qs = Category.objects.all().filter(id__gt=2000)\n",
    "categories_qs.count()"
   ]
  },
  {
   "cell_type": "code",
   "execution_count": null,
   "metadata": {},
   "outputs": [],
   "source": [
    "product_instance = Product.objects.get(id=6520)\n",
    "string = 'Радиатор масляный двигателя на Портер1'\n",
    "string = product_instance.name\n",
    "\n",
    "def categorizer(string, categories_qs):\n",
    "    string = string.lower()\n",
    "    ready = list()\n",
    "    \n",
    "    for cat in categories_qs:\n",
    "        minus = [x.minus.strip() for x in cat.to_category_minus.all()] \n",
    "        plus = [x.plus.strip() for x in cat.to_category.all()]\n",
    "        plus_single_list = []\n",
    "        \n",
    "        for p in plus:\n",
    "            find = None\n",
    "            single_list = p.split()\n",
    "            plus_single_list.append(single_list)\n",
    "            \n",
    "        for sing_lst in plus_single_list:\n",
    "            if all(plus_word in string for plus_word in sing_lst):\n",
    "                find = string\n",
    "        if find:\n",
    "            #print(minus)\n",
    "            if any(minus_word in find for minus_word in minus):\n",
    "                pass\n",
    "            else:\n",
    "                if (cat.id, cat.name, find) not in ready:\n",
    "                    ready.append((cat.id, cat.name, find))\n",
    "                #print(minus, plus)\n",
    "        \n",
    "    return ready\n",
    "res = categorizer(string, categories_qs)\n",
    "res"
   ]
  },
  {
   "cell_type": "code",
   "execution_count": null,
   "metadata": {},
   "outputs": [],
   "source": []
  }
 ],
 "metadata": {
  "kernelspec": {
   "display_name": "Django Shell-Plus",
   "language": "python",
   "name": "django_extensions"
  },
  "language_info": {
   "codemirror_mode": {
    "name": "ipython",
    "version": 3
   },
   "file_extension": ".py",
   "mimetype": "text/x-python",
   "name": "python",
   "nbconvert_exporter": "python",
   "pygments_lexer": "ipython3",
   "version": "3.7.6"
  }
 },
 "nbformat": 4,
 "nbformat_minor": 4
}
